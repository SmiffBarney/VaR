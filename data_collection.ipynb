{
 "cells": [
  {
   "cell_type": "markdown",
   "id": "62a93058-7544-42c0-8dc1-93310ec05d1c",
   "metadata": {},
   "source": [
    "# Data collection\n",
    "\n",
    "In this cell, price/volume data will be fetched from the yfinance library. For the purposes of this project, we will focus on SPY due to its popularity as a holding, ease of access to coverage, and its importance as an indicator for US equity market performance.\n",
    "\n",
    "After the SPY data is fetched, we will use the pandas datareader to import economic data from FRED, and then combine all of the features into a csv file. "
   ]
  },
  {
   "cell_type": "code",
   "execution_count": 1,
   "id": "6846e3ef-5143-4ac3-ba17-b5338e679821",
   "metadata": {},
   "outputs": [],
   "source": [
    "# Import libraries\n",
    "import pandas as pd\n",
    "import numpy as np\n",
    "import matplotlib.pyplot as plt\n",
    "import seaborn as sns\n",
    "import yfinance as yf\n",
    "\n",
    "# Select SPY as the stock\n",
    "stock = 'SPY'\n",
    "data = yf.Ticker(stock)\n",
    "\n",
    "# Fetch historical data\n",
    "df = data.history(period=\"10y\", interval=\"1mo\")\n",
    "df.reset_index(inplace=True)"
   ]
  },
  {
   "cell_type": "code",
   "execution_count": 2,
   "id": "f75066ee-71b8-4af4-808f-a841d5652883",
   "metadata": {},
   "outputs": [
    {
     "data": {
      "text/html": [
       "<div>\n",
       "<style scoped>\n",
       "    .dataframe tbody tr th:only-of-type {\n",
       "        vertical-align: middle;\n",
       "    }\n",
       "\n",
       "    .dataframe tbody tr th {\n",
       "        vertical-align: top;\n",
       "    }\n",
       "\n",
       "    .dataframe thead th {\n",
       "        text-align: right;\n",
       "    }\n",
       "</style>\n",
       "<table border=\"1\" class=\"dataframe\">\n",
       "  <thead>\n",
       "    <tr style=\"text-align: right;\">\n",
       "      <th></th>\n",
       "      <th>Date</th>\n",
       "      <th>Open</th>\n",
       "      <th>High</th>\n",
       "      <th>Low</th>\n",
       "      <th>Close</th>\n",
       "      <th>Volume</th>\n",
       "    </tr>\n",
       "  </thead>\n",
       "  <tbody>\n",
       "    <tr>\n",
       "      <th>0</th>\n",
       "      <td>2015-02-01 00:00:00-05:00</td>\n",
       "      <td>168.072827</td>\n",
       "      <td>178.314307</td>\n",
       "      <td>166.232887</td>\n",
       "      <td>176.986862</td>\n",
       "      <td>1901638100</td>\n",
       "    </tr>\n",
       "    <tr>\n",
       "      <th>1</th>\n",
       "      <td>2015-03-01 00:00:00-05:00</td>\n",
       "      <td>177.087705</td>\n",
       "      <td>178.163102</td>\n",
       "      <td>171.492275</td>\n",
       "      <td>173.433029</td>\n",
       "      <td>2749923000</td>\n",
       "    </tr>\n",
       "    <tr>\n",
       "      <th>2</th>\n",
       "      <td>2015-04-01 00:00:00-04:00</td>\n",
       "      <td>174.173445</td>\n",
       "      <td>179.312821</td>\n",
       "      <td>172.586901</td>\n",
       "      <td>175.920334</td>\n",
       "      <td>2036685200</td>\n",
       "    </tr>\n",
       "    <tr>\n",
       "      <th>3</th>\n",
       "      <td>2015-05-01 00:00:00-04:00</td>\n",
       "      <td>176.713593</td>\n",
       "      <td>180.409899</td>\n",
       "      <td>174.485686</td>\n",
       "      <td>178.181992</td>\n",
       "      <td>1892519900</td>\n",
       "    </tr>\n",
       "    <tr>\n",
       "      <th>4</th>\n",
       "      <td>2015-06-01 00:00:00-04:00</td>\n",
       "      <td>178.857118</td>\n",
       "      <td>180.038579</td>\n",
       "      <td>173.236711</td>\n",
       "      <td>173.717743</td>\n",
       "      <td>2535242600</td>\n",
       "    </tr>\n",
       "  </tbody>\n",
       "</table>\n",
       "</div>"
      ],
      "text/plain": [
       "                       Date        Open        High         Low       Close  \\\n",
       "0 2015-02-01 00:00:00-05:00  168.072827  178.314307  166.232887  176.986862   \n",
       "1 2015-03-01 00:00:00-05:00  177.087705  178.163102  171.492275  173.433029   \n",
       "2 2015-04-01 00:00:00-04:00  174.173445  179.312821  172.586901  175.920334   \n",
       "3 2015-05-01 00:00:00-04:00  176.713593  180.409899  174.485686  178.181992   \n",
       "4 2015-06-01 00:00:00-04:00  178.857118  180.038579  173.236711  173.717743   \n",
       "\n",
       "       Volume  \n",
       "0  1901638100  \n",
       "1  2749923000  \n",
       "2  2036685200  \n",
       "3  1892519900  \n",
       "4  2535242600  "
      ]
     },
     "execution_count": 2,
     "metadata": {},
     "output_type": "execute_result"
    }
   ],
   "source": [
    "# Drop less relevant columns\n",
    "df = df.drop(columns=['Dividends', 'Stock Splits', 'Capital Gains'])\n",
    "df.head()"
   ]
  },
  {
   "cell_type": "code",
   "execution_count": 3,
   "id": "0c9f1380-a848-4206-bcb6-317c82914a97",
   "metadata": {},
   "outputs": [
    {
     "name": "stdout",
     "output_type": "stream",
     "text": [
      "        Date      cpi  unemployment  consumer_confidence  interest_rate\n",
      "0 2015-02-01  234.722           5.5                 95.4           0.11\n",
      "1 2015-03-01  236.119           5.4                 93.0           0.11\n",
      "2 2015-04-01  236.599           5.4                 95.9           0.12\n",
      "3 2015-05-01  237.805           5.6                 90.7           0.12\n",
      "4 2015-06-01  238.638           5.3                 96.1           0.13\n"
     ]
    }
   ],
   "source": [
    "# Import libraries\n",
    "from datetime import date\n",
    "import pandas_datareader.data as web\n",
    "from dateutil.relativedelta import relativedelta\n",
    "\n",
    "# Get date range\n",
    "end_date = date.today()\n",
    "start_date = end_date - relativedelta(years=10)\n",
    "\n",
    "# Fetching economic data\n",
    "cpi = web.DataReader('CPIAUCNS', 'fred', start_date, end_date)  # CPI for All Urban Consumers\n",
    "unemployment = web.DataReader('UNRATE', 'fred', start_date, end_date)  # Unemployment rate\n",
    "consumer_conf = web.DataReader('UMCSENT', 'fred', start_date, end_date)  # Consumer Confidence Index\n",
    "interest_rate = web.DataReader('FEDFUNDS', 'fred', start_date, end_date)  # Federal Funds Effective Rate\n",
    "\n",
    "# Concatenate all DataFrames on the index (Date)\n",
    "economic_data = pd.concat([cpi, unemployment, consumer_conf, interest_rate], axis=1)\n",
    "\n",
    "# Rename columns for clarity\n",
    "economic_data.columns = ['cpi', 'unemployment', 'consumer_confidence', 'interest_rate']\n",
    "\n",
    "# Check for missing data and align the DataFrames on Date index\n",
    "economic_data = economic_data.dropna()  # Drop rows with missing data\n",
    "\n",
    "# Get Date as a column\n",
    "economic_data = economic_data.reset_index()\n",
    "economic_data.rename(columns={'DATE':'Date'}, inplace=True)\n",
    "\n",
    "print(economic_data.head())"
   ]
  },
  {
   "cell_type": "code",
   "execution_count": 4,
   "id": "526b8030-722a-4235-ae04-19d44a2fb581",
   "metadata": {},
   "outputs": [],
   "source": [
    "# Now merge the two DataFrames based on their indices\n",
    "\n",
    "# Convert to timezone-naive by removing timezone information\n",
    "df['Date'] = df['Date'].dt.tz_localize(None)\n",
    "merged_df = pd.concat([df, economic_data], axis=1, join='inner')\n",
    "merged_df.head()\n",
    "merged_df.to_csv(\"data/merged_df.csv\")"
   ]
  },
  {
   "cell_type": "code",
   "execution_count": null,
   "id": "86d5f737-c8ec-45c9-9b6c-d21687e63aa4",
   "metadata": {},
   "outputs": [],
   "source": []
  }
 ],
 "metadata": {
  "kernelspec": {
   "display_name": "Python 3 (ipykernel)",
   "language": "python",
   "name": "python3"
  },
  "language_info": {
   "codemirror_mode": {
    "name": "ipython",
    "version": 3
   },
   "file_extension": ".py",
   "mimetype": "text/x-python",
   "name": "python",
   "nbconvert_exporter": "python",
   "pygments_lexer": "ipython3",
   "version": "3.12.0"
  }
 },
 "nbformat": 4,
 "nbformat_minor": 5
}
