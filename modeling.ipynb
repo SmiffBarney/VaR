{
 "cells": [
  {
   "cell_type": "code",
   "execution_count": 1,
   "id": "4e1c30de-bfc0-415d-b142-0420f287aeec",
   "metadata": {},
   "outputs": [],
   "source": [
    "import pandas as pd\n",
    "import numpy as np\n",
    "import matplotlib.pyplot as plt\n",
    "import seaborn as sns\n",
    "\n",
    "df = pd.read_csv('data/merged_df.csv')"
   ]
  },
  {
   "cell_type": "markdown",
   "id": "e037d47c-806d-468a-84a6-94fa816b38f6",
   "metadata": {},
   "source": [
    "# Modeling\n",
    "\n",
    "The goal of this notebook is to train a model that can reliably predict a simulated value for volatility based on variables such as volume, cpi, unemployment, interest rates, consumer confidence, etc."
   ]
  },
  {
   "cell_type": "code",
   "execution_count": null,
   "id": "af75b609-5bdf-40c5-beff-e0b33920b265",
   "metadata": {},
   "outputs": [],
   "source": []
  }
 ],
 "metadata": {
  "kernelspec": {
   "display_name": "Python 3 (ipykernel)",
   "language": "python",
   "name": "python3"
  },
  "language_info": {
   "codemirror_mode": {
    "name": "ipython",
    "version": 3
   },
   "file_extension": ".py",
   "mimetype": "text/x-python",
   "name": "python",
   "nbconvert_exporter": "python",
   "pygments_lexer": "ipython3",
   "version": "3.12.0"
  }
 },
 "nbformat": 4,
 "nbformat_minor": 5
}
