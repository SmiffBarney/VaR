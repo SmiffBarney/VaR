{
 "cells": [
  {
   "cell_type": "markdown",
   "id": "e037d47c-806d-468a-84a6-94fa816b38f6",
   "metadata": {},
   "source": [
    "# Modeling\n",
    "\n",
    "The goal of this notebook is to train a model that can reliably predict a simulated value for volatility based on variables such as volume, cpi, unemployment, interest rates, consumer confidence, etc.\n",
    "\n",
    "Neural networks may not be especially effective for this application given the limited amount of data, though their efficacy will still be evaluated."
   ]
  },
  {
   "cell_type": "code",
   "execution_count": 86,
   "id": "4e1c30de-bfc0-415d-b142-0420f287aeec",
   "metadata": {},
   "outputs": [
    {
     "data": {
      "text/html": [
       "<div>\n",
       "<style scoped>\n",
       "    .dataframe tbody tr th:only-of-type {\n",
       "        vertical-align: middle;\n",
       "    }\n",
       "\n",
       "    .dataframe tbody tr th {\n",
       "        vertical-align: top;\n",
       "    }\n",
       "\n",
       "    .dataframe thead th {\n",
       "        text-align: right;\n",
       "    }\n",
       "</style>\n",
       "<table border=\"1\" class=\"dataframe\">\n",
       "  <thead>\n",
       "    <tr style=\"text-align: right;\">\n",
       "      <th></th>\n",
       "      <th>Open</th>\n",
       "      <th>Close</th>\n",
       "      <th>Volume</th>\n",
       "      <th>cpi</th>\n",
       "      <th>unemployment</th>\n",
       "      <th>consumer_confidence</th>\n",
       "      <th>interest_rate</th>\n",
       "      <th>log_returns</th>\n",
       "      <th>range</th>\n",
       "      <th>volatility</th>\n",
       "      <th>volume_ma</th>\n",
       "    </tr>\n",
       "  </thead>\n",
       "  <tbody>\n",
       "    <tr>\n",
       "      <th>6</th>\n",
       "      <td>178.472086</td>\n",
       "      <td>167.626038</td>\n",
       "      <td>3734926900</td>\n",
       "      <td>238.316</td>\n",
       "      <td>5.1</td>\n",
       "      <td>91.9</td>\n",
       "      <td>0.14</td>\n",
       "      <td>-0.062887</td>\n",
       "      <td>24.515958</td>\n",
       "      <td>0.033536</td>\n",
       "      <td>2.567009e+09</td>\n",
       "    </tr>\n",
       "    <tr>\n",
       "      <th>7</th>\n",
       "      <td>163.767554</td>\n",
       "      <td>162.504028</td>\n",
       "      <td>3279512900</td>\n",
       "      <td>237.945</td>\n",
       "      <td>5.0</td>\n",
       "      <td>87.2</td>\n",
       "      <td>0.14</td>\n",
       "      <td>-0.031033</td>\n",
       "      <td>13.534234</td>\n",
       "      <td>0.034528</td>\n",
       "      <td>2.655274e+09</td>\n",
       "    </tr>\n",
       "    <tr>\n",
       "      <th>8</th>\n",
       "      <td>163.732453</td>\n",
       "      <td>177.243271</td>\n",
       "      <td>2536184400</td>\n",
       "      <td>237.838</td>\n",
       "      <td>5.0</td>\n",
       "      <td>90.0</td>\n",
       "      <td>0.12</td>\n",
       "      <td>0.086820</td>\n",
       "      <td>17.321140</td>\n",
       "      <td>0.052901</td>\n",
       "      <td>2.738524e+09</td>\n",
       "    </tr>\n",
       "    <tr>\n",
       "      <th>9</th>\n",
       "      <td>177.575768</td>\n",
       "      <td>177.891159</td>\n",
       "      <td>1924512800</td>\n",
       "      <td>237.336</td>\n",
       "      <td>5.1</td>\n",
       "      <td>91.3</td>\n",
       "      <td>0.12</td>\n",
       "      <td>0.003649</td>\n",
       "      <td>8.080934</td>\n",
       "      <td>0.052634</td>\n",
       "      <td>2.743856e+09</td>\n",
       "    </tr>\n",
       "    <tr>\n",
       "      <th>10</th>\n",
       "      <td>178.530461</td>\n",
       "      <td>173.782486</td>\n",
       "      <td>2924882300</td>\n",
       "      <td>236.525</td>\n",
       "      <td>5.0</td>\n",
       "      <td>92.6</td>\n",
       "      <td>0.24</td>\n",
       "      <td>-0.023367</td>\n",
       "      <td>9.521509</td>\n",
       "      <td>0.052449</td>\n",
       "      <td>2.808796e+09</td>\n",
       "    </tr>\n",
       "  </tbody>\n",
       "</table>\n",
       "</div>"
      ],
      "text/plain": [
       "          Open       Close      Volume      cpi  unemployment  \\\n",
       "6   178.472086  167.626038  3734926900  238.316           5.1   \n",
       "7   163.767554  162.504028  3279512900  237.945           5.0   \n",
       "8   163.732453  177.243271  2536184400  237.838           5.0   \n",
       "9   177.575768  177.891159  1924512800  237.336           5.1   \n",
       "10  178.530461  173.782486  2924882300  236.525           5.0   \n",
       "\n",
       "    consumer_confidence  interest_rate  log_returns      range  volatility  \\\n",
       "6                  91.9           0.14    -0.062887  24.515958    0.033536   \n",
       "7                  87.2           0.14    -0.031033  13.534234    0.034528   \n",
       "8                  90.0           0.12     0.086820  17.321140    0.052901   \n",
       "9                  91.3           0.12     0.003649   8.080934    0.052634   \n",
       "10                 92.6           0.24    -0.023367   9.521509    0.052449   \n",
       "\n",
       "       volume_ma  \n",
       "6   2.567009e+09  \n",
       "7   2.655274e+09  \n",
       "8   2.738524e+09  \n",
       "9   2.743856e+09  \n",
       "10  2.808796e+09  "
      ]
     },
     "execution_count": 86,
     "metadata": {},
     "output_type": "execute_result"
    }
   ],
   "source": [
    "import pandas as pd\n",
    "import numpy as np\n",
    "import matplotlib.pyplot as plt\n",
    "import seaborn as sns\n",
    "\n",
    "df = pd.read_csv('data/data_engineered.csv')\n",
    "df = df.drop(columns=['Unnamed: 0','Date', 'Date.1', 'High', 'Low'])\n",
    "df = df.dropna()\n",
    "df.head()"
   ]
  },
  {
   "cell_type": "code",
   "execution_count": 80,
   "id": "af75b609-5bdf-40c5-beff-e0b33920b265",
   "metadata": {},
   "outputs": [],
   "source": [
    "# train, test, split\n",
    "from sklearn.model_selection import train_test_split\n",
    "\n",
    "y = df['volatility']\n",
    "X = df.drop(columns='volatility')\n",
    "\n",
    "X_train, X_test, y_train, y_test = train_test_split(X, y, test_size=0.2, random_state=42)"
   ]
  },
  {
   "cell_type": "code",
   "execution_count": 81,
   "id": "c86a4471-b3f9-4135-9fad-da67a428f0dd",
   "metadata": {},
   "outputs": [],
   "source": [
    "from xgboost import XGBRegressor\n",
    "from sklearn.ensemble import RandomForestRegressor\n",
    "from sklearn.svm import SVR\n",
    "from sklearn.neighbors import KNeighborsRegressor\n",
    "\n",
    "# define models\n",
    "\n",
    "models = {\n",
    "    \"XGBoost\" : XGBRegressor(),\n",
    "    \"Random Forest\" : RandomForestRegressor(),\n",
    "    \"Support Vector Regression\" : SVR(),\n",
    "    \"KNN Regression\" : KNeighborsRegressor()\n",
    "}"
   ]
  },
  {
   "cell_type": "markdown",
   "id": "3636fdeb-771a-48dc-986c-5cb0d237b5f6",
   "metadata": {},
   "source": [
    "Here, the models are evaluated using k-folds cross validation.\n",
    "\n",
    "The scoring metric is negative mean absolute error, which will  (INSERT EXPLANATION)"
   ]
  },
  {
   "cell_type": "code",
   "execution_count": 82,
   "id": "44209d78-5902-48a4-804b-49826caac196",
   "metadata": {},
   "outputs": [
    {
     "name": "stdout",
     "output_type": "stream",
     "text": [
      "XGBoost Mean CV Accuracy: -0.020 ± 0.009\n",
      "\n",
      "Random Forest Mean CV Accuracy: -0.021 ± 0.010\n",
      "\n",
      "Support Vector Regression Mean CV Accuracy: -0.020 ± 0.003\n",
      "\n",
      "KNN Regression Mean CV Accuracy: -0.016 ± 0.003\n",
      "\n"
     ]
    }
   ],
   "source": [
    "from sklearn.model_selection import cross_validate\n",
    "\n",
    "for name, model in models.items():\n",
    "    cv_result = cross_validate(model, X, y, cv=5, scoring='neg_mean_absolute_error')\n",
    "    scores = cv_result[\"test_score\"]\n",
    "    print(f'{name} Mean CV Accuracy: {scores.mean():.3f} ± {scores.std():.3f}\\n')"
   ]
  },
  {
   "cell_type": "markdown",
   "id": "5da576b2-b104-428f-bc13-a4c6ab9c0427",
   "metadata": {},
   "source": [
    "Next, model performance will be evaluated using k-folds cross validation again, but this time with r-squared"
   ]
  },
  {
   "cell_type": "code",
   "execution_count": 83,
   "id": "30a7866e-28bb-47bf-b434-9c9727ece90c",
   "metadata": {},
   "outputs": [
    {
     "name": "stdout",
     "output_type": "stream",
     "text": [
      "XGBoost Mean CV Accuracy: -1.065 ± 1.677\n",
      "\n",
      "Random Forest Mean CV Accuracy: -1.635 ± 2.780\n",
      "\n",
      "Support Vector Regression Mean CV Accuracy: -0.978 ± 0.935\n",
      "\n",
      "KNN Regression Mean CV Accuracy: -0.361 ± 0.851\n",
      "\n"
     ]
    }
   ],
   "source": [
    "for name, model in models.items():\n",
    "    cv_result = cross_validate(model, X, y, cv=5, scoring='r2')\n",
    "    scores = cv_result[\"test_score\"]\n",
    "    print(f'{name} Mean CV Accuracy: {scores.mean():.3f} ± {scores.std():.3f}\\n')"
   ]
  },
  {
   "cell_type": "code",
   "execution_count": 84,
   "id": "9b73db52-43f7-4a29-bc22-102197c9db68",
   "metadata": {},
   "outputs": [
    {
     "name": "stdout",
     "output_type": "stream",
     "text": [
      "Best Hyperparameters: {'metric': 'manhattan', 'n_neighbors': 9}\n",
      "Best CV Score: 0.033595381229241064\n"
     ]
    }
   ],
   "source": [
    "from sklearn.model_selection import GridSearchCV\n",
    "from sklearn.neighbors import KNeighborsRegressor\n",
    "\n",
    "param_grid = {\n",
    "    'n_neighbors': [3, 5, 7, 9],\n",
    "    'metric': ['euclidean', 'manhattan']\n",
    "}\n",
    "\n",
    "knn_regressor = KNeighborsRegressor()\n",
    "grid_search = GridSearchCV(knn_regressor, param_grid, cv=5, scoring='r2')  # Change to 'r2' for r2 score\n",
    "grid_search.fit(X, y)\n",
    "\n",
    "print(\"Best Hyperparameters:\", grid_search.best_params_)\n",
    "print(\"Best CV Score:\", grid_search.best_score_)\n"
   ]
  },
  {
   "cell_type": "code",
   "execution_count": 87,
   "id": "a9069af4-3857-4e2a-89dc-05a27e2615bc",
   "metadata": {},
   "outputs": [
    {
     "name": "stderr",
     "output_type": "stream",
     "text": [
      "C:\\Users\\Sean\\AppData\\Local\\Programs\\Python\\Python312\\Lib\\site-packages\\arch\\univariate\\base.py:309: DataScaleWarning: y is poorly scaled, which may affect convergence of the optimizer when\n",
      "estimating the model parameters. The scale of y is 0.0021. Parameter\n",
      "estimation work better when this value is between 1 and 1000. The recommended\n",
      "rescaling is 10 * y.\n",
      "\n",
      "This warning can be disabled by either rescaling y before initializing the\n",
      "model or by setting rescale=False.\n",
      "\n",
      "  warnings.warn(\n"
     ]
    },
    {
     "data": {
      "image/png": "[encoded data removed]",
      "text/plain": [
       "<Figure size 1000x600 with 1 Axes>"
      ]
     },
     "metadata": {},
     "output_type": "display_data"
    },
    {
     "name": "stdout",
     "output_type": "stream",
     "text": [
      "Forecasted Volatility (Standard Deviation) for next 10 periods:\n",
      "         h.01      h.02     h.03     h.04      h.05      h.06      h.07  \\\n",
      "117  0.040123  0.041742  0.04299  0.04396  0.044718  0.045315  0.045785   \n",
      "\n",
      "         h.08     h.09      h.10  \n",
      "117  0.046156  0.04645  0.046684  \n"
     ]
    }
   ],
   "source": [
    "import pandas as pd\n",
    "import numpy as np\n",
    "from arch import arch_model\n",
    "import matplotlib.pyplot as plt\n",
    "\n",
    "# Load your data (assuming 'returns' is your column for returns)\n",
    "# Example: data = pd.read_csv('your_data.csv')\n",
    "\n",
    "# For illustration, let's simulate some data\n",
    "np.random.seed(42)\n",
    "returns = df['log_returns']  # Simulating some returns data\n",
    "\n",
    "# Step 1: Fit a GARCH model to your returns data\n",
    "model = arch_model(returns, vol='Garch', p=1, q=1)  # GARCH(1,1) model\n",
    "model_fit = model.fit(disp=\"off\")\n",
    "\n",
    "# Step 2: Forecast the volatility (standard deviation of returns) for the next 10 periods\n",
    "forecast = model_fit.forecast(horizon=10)\n",
    "volatility_forecast = forecast.variance[-1:] ** 0.5  # Taking the square root to get standard deviation\n",
    "\n",
    "# Step 3: Visualize the volatility forecast\n",
    "plt.figure(figsize=(10,6))\n",
    "plt.plot(volatility_forecast.T, label='Forecasted Volatility', color='red')\n",
    "plt.title('GARCH(1,1) Volatility Forecast')\n",
    "plt.xlabel('Time Steps')\n",
    "plt.ylabel('Volatility')\n",
    "plt.legend()\n",
    "plt.show()\n",
    "\n",
    "# Print out the last forecasted volatility\n",
    "print(\"Forecasted Volatility (Standard Deviation) for next 10 periods:\")\n",
    "print(volatility_forecast)\n"
   ]
  },
  {
   "cell_type": "code",
   "execution_count": null,
   "id": "adb93e3e-d131-4db9-ad85-374961e5a29c",
   "metadata": {},
   "outputs": [],
   "source": []
  }
 ],
 "metadata": {
  "kernelspec": {
   "display_name": "Python 3 (ipykernel)",
   "language": "python",
   "name": "python3"
  },
  "language_info": {
   "codemirror_mode": {
    "name": "ipython",
    "version": 3
   },
   "file_extension": ".py",
   "mimetype": "text/x-python",
   "name": "python",
   "nbconvert_exporter": "python",
   "pygments_lexer": "ipython3",
   "version": "3.12.0"
  }
 },
 "nbformat": 4,
 "nbformat_minor": 5
}
